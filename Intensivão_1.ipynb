{
 "cells": [
  {
   "cell_type": "markdown",
   "metadata": {},
   "source": [
    "# Desafio:\n",
    "1ª Pegar uma base de dados do drive.\n",
    "\n",
    "2ª Somar as vendas.\n",
    "\n",
    "3ª Enviar a soma das vendas por Email."
   ]
  },
  {
   "cell_type": "code",
   "execution_count": 2,
   "metadata": {},
   "outputs": [],
   "source": [
    "import pyautogui\n",
    "import pyperclip\n",
    "import time\n",
    "import pandas as pd\n"
   ]
  },
  {
   "cell_type": "code",
   "execution_count": 17,
   "metadata": {},
   "outputs": [],
   "source": [
    "#1ª passo: entrar no drive;\n",
    "pyautogui.PAUSE=5\n",
    "pyautogui.hotkey(\"crtl\",\"t\")\n",
    "time.sleep(5)\n",
    "pyperclip.copy('https://drive.google.com/drive/u/0/my-drive')\n",
    "pyautogui.hotkey('ctrl','v')\n",
    "pyautogui.press('enter')\n",
    "time.sleep(35)\n",
    "\n",
    "#2ª passo:baixar arquivo;\n",
    "\n",
    "pyautogui.click(x=384, y=556, clicks=2)\n",
    "time.sleep(3)\n",
    "pyautogui.click(x=369, y=374, clicks=1)\n",
    "time.sleep(3)\n",
    "pyautogui.click(x=1091, y=185, clicks=1)\n",
    "time.sleep(3)\n",
    "pyautogui.click(x=841, y=561, clicks=2)\n",
    "time.sleep(5)\n",
    "\n",
    "#3ª passo: somar vendas;\n",
    "tabela=pd.read_excel(r'C:\\Users\\silvia\\Downloads\\janeiro.xlsx')\n",
    "somas= tabela['Vendas'].sum()\n",
    "\n",
    "\n",
    "#4ª passo:  enviar email;\n",
    "\n",
    "pyautogui.hotkey('ctrl','t')\n",
    "pyperclip.copy('https://accounts.google.com/b/0/AddMailService')\n",
    "pyautogui.hotkey('ctrl','v')\n",
    "pyautogui.press('enter')\n",
    "time.sleep(45)\n",
    "\n",
    "pyautogui.click(x=74, y=200, clicks=1)\n",
    "pyautogui.write('janainaaraujo7065@gmail.com')\n",
    "pyautogui.press('tab', presses=3)\n",
    "texto=f'''\n",
    "a soma foi de {somas:,}\n",
    "'''\n",
    "\n",
    "pyperclip.copy(texto)\n",
    "pyautogui.hotkey('ctrl','v')\n",
    "pyautogui.hotkey('ctrl','enter')\n",
    "\n",
    "\n"
   ]
  },
  {
   "cell_type": "markdown",
   "metadata": {},
   "source": [
    "# Posição"
   ]
  },
  {
   "cell_type": "code",
   "execution_count": 10,
   "metadata": {},
   "outputs": [
    {
     "data": {
      "text/plain": [
       "Point(x=382, y=15)"
      ]
     },
     "execution_count": 10,
     "metadata": {},
     "output_type": "execute_result"
    }
   ],
   "source": [
    "time.sleep(5)\n",
    "pyautogui.position()"
   ]
  }
 ],
 "metadata": {
  "kernelspec": {
   "display_name": "Python 3",
   "language": "python",
   "name": "python3"
  },
  "language_info": {
   "codemirror_mode": {
    "name": "ipython",
    "version": 3
   },
   "file_extension": ".py",
   "mimetype": "text/x-python",
   "name": "python",
   "nbconvert_exporter": "python",
   "pygments_lexer": "ipython3",
   "version": "3.7.0"
  }
 },
 "nbformat": 4,
 "nbformat_minor": 2
}
