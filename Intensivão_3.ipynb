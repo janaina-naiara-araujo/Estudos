{
 "cells": [
  {
   "cell_type": "markdown",
   "metadata": {},
   "source": [
    "# Desafio:\n",
    "1ª Pegar a cotação do dolar, euro e ouro.\n",
    "\n",
    "2ª Atualizar a base de dados\n",
    "\n",
    "3ª Exportar base de dados(Excel)\n"
   ]
  },
  {
   "cell_type": "code",
   "execution_count": 6,
   "metadata": {},
   "outputs": [],
   "source": [
    "from selenium import webdriver #controlar navegador\n",
    "from selenium.webdriver.common.keys import Keys  #usar o teclado\n",
    "from selenium.webdriver.common.by import By #localizar os itens no navegador. \n",
    "import pandas as pd\n",
    "\n"
   ]
  },
  {
   "cell_type": "code",
   "execution_count": 7,
   "metadata": {},
   "outputs": [
    {
     "name": "stdout",
     "output_type": "stream",
     "text": [
      "4.6594999999999995\n",
      "5.087405182\n",
      "288.03\n"
     ]
    }
   ],
   "source": [
    "#Pegar cotação dolar:\n",
    "navegador = webdriver.Chrome()\n",
    "navegador.get('https://www.google.com/')\n",
    "navegador.find_element(By.XPATH, \n",
    "                       '/html/body/div[1]/div[3]/form/div[1]/div[1]/div[1]/div/div[2]/input').send_keys(\"cotação dolar\")\n",
    "navegador.find_element(By.XPATH, \n",
    "                       '/html/body/div[1]/div[3]/form/div[1]/div[1]/div[1]/div/div[2]/input').send_keys(Keys.ENTER)\n",
    "cotacao_dolar= navegador.find_element(By.XPATH, '//*[@id=\"knowledge-currency__updatable-data-column\"]/div[1]/div[2]/span[1]').get_attribute('data-value')\n",
    "print(cotacao_dolar)\n",
    "\n",
    "\n",
    "#Pegar cotaçao euro:\n",
    "navegador.get('https://www.google.com/')\n",
    "navegador.find_element(By.XPATH, \n",
    "                       '/html/body/div[1]/div[3]/form/div[1]/div[1]/div[1]/div/div[2]/input').send_keys(\"cotação euro\")\n",
    "navegador.find_element(By.XPATH, \n",
    "                       '/html/body/div[1]/div[3]/form/div[1]/div[1]/div[1]/div/div[2]/input').send_keys(Keys.ENTER)\n",
    "cotacao_euro= navegador.find_element(By.XPATH, '//*[@id=\"knowledge-currency__updatable-data-column\"]/div[1]/div[2]/span[1]').get_attribute('data-value')\n",
    "print(cotacao_euro)\n",
    "\n",
    "#Pegar cotação ouro:\n",
    "navegador.get('https://www.melhorcambio.com/ouro-hoje')\n",
    "cotacao_ouro=navegador.find_element(By.XPATH, \n",
    "                       '//*[@id=\"comercial\"]').get_attribute(\"value\")\n",
    "cotacao_ouro = cotacao_ouro.replace(',', '.') # replace(trocar) editar o texto, pra trocar o , pelo . \n",
    "print(cotacao_ouro)\n",
    "navegador.quit()\n"
   ]
  },
  {
   "cell_type": "code",
   "execution_count": 13,
   "metadata": {},
   "outputs": [],
   "source": [
    "#Atualizar base de dados:\n",
    "import pandas as pd\n",
    "tabela = pd.read_excel('Planilha Intensivao Python aula 3.xlsx')\n",
    "#ATUALIZAR COTAÇÕES\n",
    "#Atualizar dolar:\n",
    "tabela.loc[tabela['MOEDA'] == 'Dolar', 'COTAÇÃO'] = float(cotacao_dolar)\n",
    "\n",
    "\n",
    "#Ataulizar euro:\n",
    "tabela.loc[tabela['MOEDA'] == 'Euro', 'COTAÇÃO'] = float(cotacao_euro)\n",
    "\n",
    "\n",
    "#Atualizar ouro:\n",
    "tabela.loc[tabela['MOEDA'] == 'Ouro', 'COTAÇÃO'] = float(cotacao_ouro)\n",
    "\n",
    "#ATUALIZAR PREÇO DA COMPRA E DA VENDA\n",
    "#preço compra é o PREÇO_ORIGINAL * COTAÇÃO\n",
    "tabela['PREÇO_COMPRA'] =  tabela['PREÇO_ORIGINAL'] * tabela['COTAÇÃO']\n",
    "\n",
    "#preço venda é o PREÇO_COMPRA * MARGEM\n",
    "tabela['PRECO_VENDA'] = tabela ['PREÇO_COMPRA'] * tabela['MARGEM']\n",
    "\n"
   ]
  },
  {
   "cell_type": "code",
   "execution_count": 11,
   "metadata": {},
   "outputs": [],
   "source": [
    "#Exportar base de dados\n",
    "tabela.to.excel('NOVO - Planilha Intensivao Python aula 3.xlsx', index=False)"
   ]
  },
  {
   "cell_type": "code",
   "execution_count": 2,
   "metadata": {},
   "outputs": [
    {
     "name": "stdout",
     "output_type": "stream",
     "text": [
      "         PRODUTOS  PREÇO_ORIGINAL  MOEDA  COTAÇÃO  PREÇO_COMPRA  MARGEM  \\\n",
      "0          Camera               5  Dolar        5            25     1.4   \n",
      "1           Carro               5   Euro        5            25     1.5   \n",
      "2        Notebook               5  Dolar        5            25     1.6   \n",
      "3          Iphone               5  Dolar        5            25     1.7   \n",
      "4      Carro fiat               5   Euro        5            25     1.8   \n",
      "5  Celular Xiaomi               5  Dolar        5            25     1.9   \n",
      "6        Joia 20g               5   Ouro        5            25     1.1   \n",
      "\n",
      "   PRECO_VENDA  \n",
      "0         35.0  \n",
      "1         37.5  \n",
      "2         40.0  \n",
      "3         42.5  \n",
      "4         45.0  \n",
      "5         47.5  \n",
      "6         27.5  \n"
     ]
    }
   ],
   "source": [
    "import pandas as pd\n",
    "tabela = pd.read_excel('Planilha Intensivao Python aula 3.xlsx')\n",
    "print(tabela)"
   ]
  }
 ],
 "metadata": {
  "kernelspec": {
   "display_name": "Python 3",
   "language": "python",
   "name": "python3"
  },
  "language_info": {
   "codemirror_mode": {
    "name": "ipython",
    "version": 3
   },
   "file_extension": ".py",
   "mimetype": "text/x-python",
   "name": "python",
   "nbconvert_exporter": "python",
   "pygments_lexer": "ipython3",
   "version": "3.7.0"
  }
 },
 "nbformat": 4,
 "nbformat_minor": 2
}
